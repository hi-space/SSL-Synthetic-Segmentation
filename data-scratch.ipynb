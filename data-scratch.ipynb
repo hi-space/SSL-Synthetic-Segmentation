{
 "cells": [
  {
   "cell_type": "code",
   "execution_count": 1,
   "metadata": {},
   "outputs": [],
   "source": [
    "# https://github.com/microsoft/ProDA/blob/main/data/gta5_dataset.py"
   ]
  },
  {
   "cell_type": "code",
   "execution_count": 2,
   "metadata": {},
   "outputs": [],
   "source": [
    "import os\n",
    "import torch\n",
    "import numpy as np\n",
    "import logging\n",
    "\n",
    "from PIL import Image"
   ]
  },
  {
   "cell_type": "code",
   "execution_count": 7,
   "metadata": {},
   "outputs": [],
   "source": [
    "\"\"\"Base segmentation dataset\"\"\"\n",
    "import os\n",
    "import random\n",
    "import numpy as np\n",
    "import torchvision\n",
    "\n",
    "from PIL import Image, ImageOps, ImageFilter\n",
    "from core.config import cfg\n",
    "\n",
    "\n",
    "class SegmentationDataset(object):\n",
    "    \"\"\"Segmentation Base Dataset\"\"\"\n",
    "\n",
    "    def __init__(self, root, split, mode, transform, base_size=520, crop_size=480):\n",
    "        super(SegmentationDataset, self).__init__()\n",
    "        self.root = os.path.join(cfg.ROOT_PATH, root)\n",
    "        self.transform = transform\n",
    "        self.split = split\n",
    "        self.mode = mode if mode is not None else split\n",
    "        self.base_size = base_size\n",
    "        self.crop_size = self.to_tuple(crop_size)\n",
    "        self.color_jitter = self._get_color_jitter()\n",
    "\n",
    "    def to_tuple(self, size):\n",
    "        if isinstance(size, (list, tuple)):\n",
    "            return tuple(size)\n",
    "        elif isinstance(size, (int, float)):\n",
    "            return tuple((size, size))\n",
    "        else:\n",
    "            raise ValueError('Unsupport datatype: {}'.format(type(size)))\n",
    "\n",
    "    def _get_color_jitter(self):\n",
    "        color_jitter = cfg.AUG.COLOR_JITTER\n",
    "        if color_jitter is None:\n",
    "            return None\n",
    "        if isinstance(color_jitter, (list, tuple)):\n",
    "            # color jitter should be a 3-tuple/list if spec brightness/contrast/saturation\n",
    "            # or 4 if also augmenting hue\n",
    "            assert len(color_jitter) in (3, 4)\n",
    "        else:\n",
    "            # if it's a scalar, duplicate for brightness, contrast, and saturation, no hue\n",
    "            color_jitter = (float(color_jitter),) * 3\n",
    "        return torchvision.transforms.ColorJitter(*color_jitter)\n",
    "\n",
    "    def _val_sync_transform(self, img, mask):\n",
    "        outsize = self.crop_size\n",
    "        short_size = min(outsize)\n",
    "        w, h = img.size\n",
    "        if w > h:\n",
    "            oh = short_size\n",
    "            ow = int(1.0 * w * oh / h)\n",
    "        else:\n",
    "            ow = short_size\n",
    "            oh = int(1.0 * h * ow / w)\n",
    "        img = img.resize((ow, oh), Image.BILINEAR)\n",
    "        mask = mask.resize((ow, oh), Image.NEAREST)\n",
    "        # center crop\n",
    "        w, h = img.size\n",
    "        x1 = int(round((w - outsize[1]) / 2.))\n",
    "        y1 = int(round((h - outsize[0]) / 2.))\n",
    "        img = img.crop((x1, y1, x1 + outsize[1], y1 + outsize[0]))\n",
    "        mask = mask.crop((x1, y1, x1 + outsize[1], y1 + outsize[0]))\n",
    "\n",
    "        # final transform\n",
    "        img, mask = self._img_transform(img), self._mask_transform(mask)\n",
    "        return img, mask\n",
    "\n",
    "    def _sync_transform(self, img, mask):\n",
    "        # random mirror\n",
    "        if cfg.AUG.MIRROR and random.random() < 0.5:\n",
    "            img = img.transpose(Image.FLIP_LEFT_RIGHT)\n",
    "            mask = mask.transpose(Image.FLIP_LEFT_RIGHT)\n",
    "        crop_size = self.crop_size\n",
    "        # random scale (short edge)\n",
    "        short_size = random.randint(int(self.base_size * 0.5), int(self.base_size * 2.0))\n",
    "        w, h = img.size\n",
    "        if h > w:\n",
    "            ow = short_size\n",
    "            oh = int(1.0 * h * ow / w)\n",
    "        else:\n",
    "            oh = short_size\n",
    "            ow = int(1.0 * w * oh / h)\n",
    "        img = img.resize((ow, oh), Image.BILINEAR)\n",
    "        mask = mask.resize((ow, oh), Image.NEAREST)\n",
    "        # pad crop\n",
    "        if short_size < min(crop_size):\n",
    "            padh = crop_size[0] - oh if oh < crop_size[0] else 0\n",
    "            padw = crop_size[1] - ow if ow < crop_size[1] else 0\n",
    "            img = ImageOps.expand(img, border=(0, 0, padw, padh), fill=0)\n",
    "            mask = ImageOps.expand(mask, border=(0, 0, padw, padh), fill=-1)\n",
    "        # random crop crop_size\n",
    "        w, h = img.size\n",
    "        x1 = random.randint(0, w - crop_size[1])\n",
    "        y1 = random.randint(0, h - crop_size[0])\n",
    "        img = img.crop((x1, y1, x1 + crop_size[1], y1 + crop_size[0]))\n",
    "        mask = mask.crop((x1, y1, x1 + crop_size[1], y1 + crop_size[0]))\n",
    "        # gaussian blur as in PSP\n",
    "        if cfg.AUG.BLUR_PROB > 0 and random.random() < cfg.AUG.BLUR_PROB:\n",
    "            radius = cfg.AUG.BLUR_RADIUS if cfg.AUG.BLUR_RADIUS > 0 else random.random()\n",
    "            img = img.filter(ImageFilter.GaussianBlur(radius=radius))\n",
    "        # color jitter\n",
    "        if self.color_jitter:\n",
    "            img = self.color_jitter(img)\n",
    "        # final transform\n",
    "        img, mask = self._img_transform(img), self._mask_transform(mask)\n",
    "        return img, mask\n",
    "\n",
    "    def _img_transform(self, img):\n",
    "        return np.array(img)\n",
    "\n",
    "    def _mask_transform(self, mask):\n",
    "        return np.array(mask).astype('int32')\n",
    "\n",
    "    @property\n",
    "    def num_class(self):\n",
    "        \"\"\"Number of categories.\"\"\"\n",
    "        return self.NUM_CLASS\n",
    "\n",
    "    @property\n",
    "    def pred_offset(self):\n",
    "        return 0\n"
   ]
  },
  {
   "cell_type": "code",
   "execution_count": 6,
   "metadata": {},
   "outputs": [],
   "source": [
    "class CitySegmentation(SegmentationDataset):\n",
    "    \"\"\"Cityscapes Semantic Segmentation Dataset.\n",
    "\n",
    "    Parameters\n",
    "    ----------\n",
    "    root : string\n",
    "        Path to Cityscapes folder. Default is './datasets/cityscapes'\n",
    "    split: string\n",
    "        'train', 'val' or 'test'\n",
    "    transform : callable, optional\n",
    "        A function that transforms the image\n",
    "    Examples\n",
    "    --------\n",
    "    >>> from torchvision import transforms\n",
    "    >>> import torch.utils.data as data\n",
    "    >>> # Transforms for Normalization\n",
    "    >>> input_transform = transforms.Compose([\n",
    "    >>>     transforms.ToTensor(),\n",
    "    >>>     transforms.Normalize((.485, .456, .406), (.229, .224, .225)),\n",
    "    >>> ])\n",
    "    >>> # Create Dataset\n",
    "    >>> trainset = CitySegmentation(split='train', transform=input_transform)\n",
    "    >>> # Create Training Loader\n",
    "    >>> train_data = data.DataLoader(\n",
    "    >>>     trainset, 4, shuffle=True,\n",
    "    >>>     num_workers=4)\n",
    "    \"\"\"\n",
    "    BASE_DIR = 'citys'\n",
    "    NUM_CLASS = 19\n",
    "\n",
    "    def __init__(self, root='G:/data', split='train', mode=None, transform=None, **kwargs):\n",
    "        super(CitySegmentation, self).__init__(root, split, mode, transform, **kwargs)\n",
    "        self.root = os.path.join(root, self.BASE_DIR)\n",
    "        assert os.path.exists(self.root), \"Please put dataset in {SEG_ROOT}/datasets/cityscapes\"\n",
    "        self.images, self.mask_paths = _get_city_pairs(self.root, self.split)\n",
    "        assert (len(self.images) == len(self.mask_paths))\n",
    "        if len(self.images) == 0:\n",
    "            raise RuntimeError(\"Found 0 images in subfolders of:\" + root + \"\\n\")\n",
    "        self.valid_classes = [7, 8, 11, 12, 13, 17, 19, 20, 21, 22,\n",
    "                              23, 24, 25, 26, 27, 28, 31, 32, 33]\n",
    "        self._key = np.array([-1, -1, -1, -1, -1, -1,\n",
    "                              -1, -1, 0, 1, -1, -1,\n",
    "                              2, 3, 4, -1, -1, -1,\n",
    "                              5, -1, 6, 7, 8, 9,\n",
    "                              10, 11, 12, 13, 14, 15,\n",
    "                              -1, -1, 16, 17, 18])\n",
    "        self._mapping = np.array(range(-1, len(self._key) - 1)).astype('int32')\n",
    "\n",
    "    def _class_to_index(self, mask):\n",
    "        # assert the value\n",
    "        values = np.unique(mask)\n",
    "        for value in values:\n",
    "            assert (value in self._mapping)\n",
    "        index = np.digitize(mask.ravel(), self._mapping, right=True)\n",
    "        return self._key[index].reshape(mask.shape)\n",
    "\n",
    "    def __getitem__(self, index):\n",
    "        img = Image.open(self.images[index]).convert('RGB')\n",
    "        if self.mode == 'test':\n",
    "            if self.transform is not None:\n",
    "                img = self.transform(img)\n",
    "            return img, os.path.basename(self.images[index])\n",
    "        mask = Image.open(self.mask_paths[index])\n",
    "        # synchrosized transform\n",
    "        if self.mode == 'train':\n",
    "            img, mask = self._sync_transform(img, mask)\n",
    "        elif self.mode == 'val':\n",
    "            img, mask = self._val_sync_transform(img, mask)\n",
    "        else:\n",
    "            assert self.mode == 'testval'\n",
    "            img, mask = self._img_transform(img), self._mask_transform(mask)\n",
    "        # general resize, normalize and toTensor\n",
    "        if self.transform is not None:\n",
    "            img = self.transform(img)\n",
    "        return img, mask, os.path.basename(self.images[index])\n",
    "\n",
    "    def _mask_transform(self, mask):\n",
    "        target = self._class_to_index(np.array(mask).astype('int32'))\n",
    "        return torch.LongTensor(np.array(target).astype('int32'))\n",
    "\n",
    "    def __len__(self):\n",
    "        return len(self.images)\n",
    "\n",
    "    @property\n",
    "    def pred_offset(self):\n",
    "        return 0\n",
    "\n",
    "    @property\n",
    "    def classes(self):\n",
    "        \"\"\"Category names.\"\"\"\n",
    "        return ('road', 'sidewalk', 'building', 'wall', 'fence', 'pole', 'traffic light',\n",
    "                'traffic sign', 'vegetation', 'terrain', 'sky', 'person', 'rider', 'car',\n",
    "                'truck', 'bus', 'train', 'motorcycle', 'bicycle')\n",
    "\n",
    "\n",
    "def _get_city_pairs(folder, split='train'):\n",
    "    def get_path_pairs(img_folder, mask_folder):\n",
    "        img_paths = []\n",
    "        mask_paths = []\n",
    "        for root, _, files in os.walk(img_folder):\n",
    "            for filename in files:\n",
    "                if filename.startswith('._'):\n",
    "                    continue\n",
    "                if filename.endswith('.png'):\n",
    "                    imgpath = os.path.join(root, filename)\n",
    "                    foldername = os.path.basename(os.path.dirname(imgpath))\n",
    "                    maskname = filename.replace('leftImg8bit', 'gtFine_labelIds')\n",
    "                    maskpath = os.path.join(mask_folder, foldername, maskname)\n",
    "                    if os.path.isfile(imgpath) and os.path.isfile(maskpath):\n",
    "                        img_paths.append(imgpath)\n",
    "                        mask_paths.append(maskpath)\n",
    "                    else:\n",
    "                        logging.info('cannot find the mask or image:', imgpath, maskpath)\n",
    "        logging.info('Found {} images in the folder {}'.format(len(img_paths), img_folder))\n",
    "        return img_paths, mask_paths\n",
    "\n",
    "    if split in ('train', 'val'):\n",
    "        img_folder = os.path.join(folder, 'leftImg8bit/' + split)\n",
    "        mask_folder = os.path.join(folder, 'gtFine/' + split)\n",
    "        img_paths, mask_paths = get_path_pairs(img_folder, mask_folder)\n",
    "        return img_paths, mask_paths\n",
    "    else:\n",
    "        assert split == 'trainval'\n",
    "        logging.info('trainval set')\n",
    "        train_img_folder = os.path.join(folder, 'leftImg8bit/train')\n",
    "        train_mask_folder = os.path.join(folder, 'gtFine/train')\n",
    "        val_img_folder = os.path.join(folder, 'leftImg8bit/val')\n",
    "        val_mask_folder = os.path.join(folder, 'gtFine/val')\n",
    "        train_img_paths, train_mask_paths = get_path_pairs(train_img_folder, train_mask_folder)\n",
    "        val_img_paths, val_mask_paths = get_path_pairs(val_img_folder, val_mask_folder)\n",
    "        img_paths = train_img_paths + val_img_paths\n",
    "        mask_paths = train_mask_paths + val_mask_paths\n",
    "    return img_paths, mask_paths"
   ]
  },
  {
   "cell_type": "code",
   "execution_count": 4,
   "metadata": {},
   "outputs": [],
   "source": [
    "from torchvision import transforms\n",
    "import torch.utils.data as data"
   ]
  },
  {
   "cell_type": "code",
   "execution_count": 37,
   "metadata": {},
   "outputs": [],
   "source": [
    "train_transforms = transforms.Compose([\n",
    "    transforms.ToTensor(),\n",
    "    transforms.Normalize([0.485, 0.456, 0.406], [0.229, 0.224, 0.225])])"
   ]
  },
  {
   "cell_type": "code",
   "execution_count": 38,
   "metadata": {},
   "outputs": [],
   "source": [
    "trainset = CitySegmentation(split='train', transform=train_transforms)\n",
    "train_data = data.DataLoader(trainset, 16, shuffle=True, num_workers=0)"
   ]
  },
  {
   "cell_type": "code",
   "execution_count": 39,
   "metadata": {},
   "outputs": [
    {
     "name": "stdout",
     "output_type": "stream",
     "text": [
      "<torch.utils.data.dataloader.DataLoader object at 0x0000015795260F28>\n"
     ]
    }
   ],
   "source": [
    "print(train_data)"
   ]
  },
  {
   "cell_type": "code",
   "execution_count": 89,
   "metadata": {},
   "outputs": [],
   "source": [
    "sample_image = sample_label = sample_base = None\n",
    "for (image, label, base) in train_data:\n",
    "    sample_image = image\n",
    "    sample_label = label\n",
    "    sample_base = base\n",
    "    break"
   ]
  },
  {
   "cell_type": "code",
   "execution_count": 45,
   "metadata": {},
   "outputs": [],
   "source": [
    "import numpy as np\n",
    "import cv2\n",
    "import matplotlib.pyplot as plt\n",
    "\n",
    "def visualize(**images):\n",
    "    \"\"\"PLot images in one row.\"\"\"\n",
    "    n = len(images)\n",
    "    plt.figure(figsize=(16, 5))\n",
    "    for i, (name, image) in enumerate(images.items()):\n",
    "        plt.subplot(1, n, i + 1)\n",
    "        plt.xticks([])\n",
    "        plt.yticks([])\n",
    "        plt.title(' '.join(name.split('_')).title())\n",
    "        plt.imshow(image)\n",
    "    plt.show()"
   ]
  },
  {
   "cell_type": "code",
   "execution_count": 79,
   "metadata": {},
   "outputs": [
    {
     "name": "stderr",
     "output_type": "stream",
     "text": [
      "WARNING:matplotlib.image:Clipping input data to the valid range for imshow with RGB data ([0..1] for floats or [0..255] for integers).\n"
     ]
    },
    {
     "data": {
      "text/plain": [
       "<matplotlib.image.AxesImage at 0x1579d5136a0>"
      ]
     },
     "execution_count": 79,
     "metadata": {},
     "output_type": "execute_result"
    },
    {
     "data": {
      "image/png": "[encoded data removed]",
      "text/plain": [
       "<Figure size 432x288 with 1 Axes>"
      ]
     },
     "metadata": {
      "needs_background": "light"
     },
     "output_type": "display_data"
    }
   ],
   "source": [
    "plt.imshow(np.transpose(sample_image[0,0:3], (1, 2, 0)))"
   ]
  },
  {
   "cell_type": "code",
   "execution_count": 91,
   "metadata": {},
   "outputs": [
    {
     "data": {
      "text/plain": [
       "torch.Size([16, 480, 480])"
      ]
     },
     "execution_count": 91,
     "metadata": {},
     "output_type": "execute_result"
    }
   ],
   "source": [
    "sample_label.shape"
   ]
  },
  {
   "cell_type": "code",
   "execution_count": 99,
   "metadata": {},
   "outputs": [
    {
     "data": {
      "text/plain": [
       "torch.Size([2, 480, 480])"
      ]
     },
     "execution_count": 99,
     "metadata": {},
     "output_type": "execute_result"
    }
   ],
   "source": [
    "sample_label[1:3].shape"
   ]
  },
  {
   "cell_type": "code",
   "execution_count": 123,
   "metadata": {},
   "outputs": [],
   "source": [
    "gta_image = Image.open(\"G:/data/gta/images/00016.png\").convert('RGB')\n",
    "gta_label = Image.open(\"G:/data/gta/labels/00016.png\").convert('RGB')"
   ]
  },
  {
   "cell_type": "code",
   "execution_count": 149,
   "metadata": {},
   "outputs": [],
   "source": [
    "NUM_CLASS = 19\n",
    "\n",
    "colors = [  # [  0,   0,   0],\n",
    "    [128, 64, 128],\n",
    "    [244, 35, 232],\n",
    "    [70, 70, 70],\n",
    "    [102, 102, 156],\n",
    "    [190, 153, 153],\n",
    "    [153, 153, 153],\n",
    "    [250, 170, 30],\n",
    "    [220, 220, 0],\n",
    "    [107, 142, 35],\n",
    "    [152, 251, 152],\n",
    "    [0, 130, 180],\n",
    "    [220, 20, 60],\n",
    "    [255, 0, 0],\n",
    "    [0, 0, 142],\n",
    "    [0, 0, 70],\n",
    "    [0, 60, 100],\n",
    "    [0, 80, 100],\n",
    "    [0, 0, 230],\n",
    "    [119, 11, 32],\n",
    "]\n",
    "\n",
    "void_classes = [0, 1, 2, 3, 4, 5, 6, 9, 10, 14, 15, 16, 18, 29, 30, 34, -1]\n",
    "valid_classes = [7, 8, 11, 12, 13, 17, 19, 20, 21, 22, 23, 24, 25, 26, 27, 28, 31, 32, 33,]\n",
    "ignore_index = 250\n",
    "class_map = dict(zip(valid_classes, range(19)))"
   ]
  },
  {
   "cell_type": "code",
   "execution_count": 153,
   "metadata": {},
   "outputs": [],
   "source": [
    "def encode_segmap(lbl):\n",
    "        for _i in void_classes:\n",
    "            lbl[lbl == _i] = ignore_index\n",
    "        for _i in valid_classes:\n",
    "            lbl[lbl == _i] = class_map[_i]\n",
    "        return dict(zip(range(NUM_CLASS), colors))\n",
    "\n",
    "def decode_segmap(temp):\n",
    "    r = temp.copy()\n",
    "    g = temp.copy()\n",
    "    b = temp.copy()\n",
    "    for l in range(0, NUM_CLASS):\n",
    "        r[temp == l] = label_colours[l][0]\n",
    "        g[temp == l] = label_colours[l][1]\n",
    "        b[temp == l] = label_colours[l][2]\n",
    "\n",
    "    rgb = np.zeros((temp.shape[0], temp.shape[1], 3))\n",
    "    rgb[:, :, 0] = r / 255.0\n",
    "    rgb[:, :, 1] = g / 255.0\n",
    "    rgb[:, :, 2] = b / 255.0\n",
    "    return rgb"
   ]
  },
  {
   "cell_type": "code",
   "execution_count": 157,
   "metadata": {},
   "outputs": [
    {
     "data": {
      "text/plain": [
       "{0: [128, 64, 128],\n",
       " 1: [244, 35, 232],\n",
       " 2: [70, 70, 70],\n",
       " 3: [102, 102, 156],\n",
       " 4: [190, 153, 153],\n",
       " 5: [153, 153, 153],\n",
       " 6: [250, 170, 30],\n",
       " 7: [220, 220, 0],\n",
       " 8: [107, 142, 35],\n",
       " 9: [152, 251, 152],\n",
       " 10: [0, 130, 180],\n",
       " 11: [220, 20, 60],\n",
       " 12: [255, 0, 0],\n",
       " 13: [0, 0, 142],\n",
       " 14: [0, 0, 70],\n",
       " 15: [0, 60, 100],\n",
       " 16: [0, 80, 100],\n",
       " 17: [0, 0, 230],\n",
       " 18: [119, 11, 32]}"
      ]
     },
     "execution_count": 157,
     "metadata": {},
     "output_type": "execute_result"
    }
   ],
   "source": [
    "encode_segmap(np.array(gta_label))"
   ]
  },
  {
   "cell_type": "code",
   "execution_count": 144,
   "metadata": {},
   "outputs": [
    {
     "data": {
      "text/plain": [
       "(1914, 3)"
      ]
     },
     "execution_count": 144,
     "metadata": {},
     "output_type": "execute_result"
    }
   ],
   "source": [
    "n[1].shape"
   ]
  },
  {
   "cell_type": "code",
   "execution_count": 129,
   "metadata": {},
   "outputs": [
    {
     "ename": "ValueError",
     "evalue": "could not broadcast input array from shape (1052,1914,3) into shape (1052,1914)",
     "output_type": "error",
     "traceback": [
      "\u001b[1;31m---------------------------------------------------------------------------\u001b[0m",
      "\u001b[1;31mValueError\u001b[0m                                Traceback (most recent call last)",
      "\u001b[1;32m<ipython-input-129-002f4c941d5b>\u001b[0m in \u001b[0;36m<module>\u001b[1;34m\u001b[0m\n\u001b[1;32m----> 1\u001b[1;33m \u001b[0mt\u001b[0m \u001b[1;33m=\u001b[0m \u001b[0mdecode_segmap\u001b[0m\u001b[1;33m(\u001b[0m\u001b[0mnp\u001b[0m\u001b[1;33m.\u001b[0m\u001b[0marray\u001b[0m\u001b[1;33m(\u001b[0m\u001b[0mgta_label\u001b[0m\u001b[1;33m)\u001b[0m\u001b[1;33m)\u001b[0m\u001b[1;33m\u001b[0m\u001b[1;33m\u001b[0m\u001b[0m\n\u001b[0m",
      "\u001b[1;32m<ipython-input-119-5760ca2746c3>\u001b[0m in \u001b[0;36mdecode_segmap\u001b[1;34m(temp)\u001b[0m\n\u001b[0;32m      9\u001b[0m \u001b[1;33m\u001b[0m\u001b[0m\n\u001b[0;32m     10\u001b[0m     \u001b[0mrgb\u001b[0m \u001b[1;33m=\u001b[0m \u001b[0mnp\u001b[0m\u001b[1;33m.\u001b[0m\u001b[0mzeros\u001b[0m\u001b[1;33m(\u001b[0m\u001b[1;33m(\u001b[0m\u001b[0mtemp\u001b[0m\u001b[1;33m.\u001b[0m\u001b[0mshape\u001b[0m\u001b[1;33m[\u001b[0m\u001b[1;36m0\u001b[0m\u001b[1;33m]\u001b[0m\u001b[1;33m,\u001b[0m \u001b[0mtemp\u001b[0m\u001b[1;33m.\u001b[0m\u001b[0mshape\u001b[0m\u001b[1;33m[\u001b[0m\u001b[1;36m1\u001b[0m\u001b[1;33m]\u001b[0m\u001b[1;33m,\u001b[0m \u001b[1;36m3\u001b[0m\u001b[1;33m)\u001b[0m\u001b[1;33m)\u001b[0m\u001b[1;33m\u001b[0m\u001b[1;33m\u001b[0m\u001b[0m\n\u001b[1;32m---> 11\u001b[1;33m     \u001b[0mrgb\u001b[0m\u001b[1;33m[\u001b[0m\u001b[1;33m:\u001b[0m\u001b[1;33m,\u001b[0m \u001b[1;33m:\u001b[0m\u001b[1;33m,\u001b[0m \u001b[1;36m0\u001b[0m\u001b[1;33m]\u001b[0m \u001b[1;33m=\u001b[0m \u001b[0mr\u001b[0m \u001b[1;33m/\u001b[0m \u001b[1;36m255.0\u001b[0m\u001b[1;33m\u001b[0m\u001b[1;33m\u001b[0m\u001b[0m\n\u001b[0m\u001b[0;32m     12\u001b[0m     \u001b[0mrgb\u001b[0m\u001b[1;33m[\u001b[0m\u001b[1;33m:\u001b[0m\u001b[1;33m,\u001b[0m \u001b[1;33m:\u001b[0m\u001b[1;33m,\u001b[0m \u001b[1;36m1\u001b[0m\u001b[1;33m]\u001b[0m \u001b[1;33m=\u001b[0m \u001b[0mg\u001b[0m \u001b[1;33m/\u001b[0m \u001b[1;36m255.0\u001b[0m\u001b[1;33m\u001b[0m\u001b[1;33m\u001b[0m\u001b[0m\n\u001b[0;32m     13\u001b[0m     \u001b[0mrgb\u001b[0m\u001b[1;33m[\u001b[0m\u001b[1;33m:\u001b[0m\u001b[1;33m,\u001b[0m \u001b[1;33m:\u001b[0m\u001b[1;33m,\u001b[0m \u001b[1;36m2\u001b[0m\u001b[1;33m]\u001b[0m \u001b[1;33m=\u001b[0m \u001b[0mb\u001b[0m \u001b[1;33m/\u001b[0m \u001b[1;36m255.0\u001b[0m\u001b[1;33m\u001b[0m\u001b[1;33m\u001b[0m\u001b[0m\n",
      "\u001b[1;31mValueError\u001b[0m: could not broadcast input array from shape (1052,1914,3) into shape (1052,1914)"
     ]
    }
   ],
   "source": [
    "t = decode_segmap(np.array(gta_label))"
   ]
  },
  {
   "cell_type": "code",
   "execution_count": null,
   "metadata": {},
   "outputs": [],
   "source": []
  }
 ],
 "metadata": {
  "kernelspec": {
   "display_name": "dl",
   "language": "python",
   "name": "dl"
  },
  "language_info": {
   "codemirror_mode": {
    "name": "ipython",
    "version": 3
   },
   "file_extension": ".py",
   "mimetype": "text/x-python",
   "name": "python",
   "nbconvert_exporter": "python",
   "pygments_lexer": "ipython3",
   "version": "3.6.9"
  }
 },
 "nbformat": 4,
 "nbformat_minor": 4
}
