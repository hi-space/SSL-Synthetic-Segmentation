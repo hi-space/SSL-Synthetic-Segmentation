{
  "cells": [
    {
      "cell_type": "code",
      "execution_count": null,
      "source": [
        "GT_DIR = '' # directory which stores CityScapes val gt images\n",
        "PRED_DIR = '' # directory which stores CityScapes val pred images\n",
        "DEVKIT_DIR = 'dataset/cityscapes_list' # base directory of cityscapes"
      ],
      "outputs": [],
      "metadata": {}
    },
    {
      "cell_type": "code",
      "execution_count": null,
      "source": [
        "import numpy as np\n",
        "import argparse\n",
        "import json\n",
        "from PIL import Image\n",
        "from os.path import join\n",
        "\n",
        "\n",
        "def fast_hist(a, b, n):\n",
        "    k = (a >= 0) & (a < n)\n",
        "    return np.bincount(n * a[k].astype(int) + b[k], minlength=n ** 2).reshape(n, n)\n",
        "\n",
        "\n",
        "def per_class_iu(hist):\n",
        "    return np.diag(hist) / (hist.sum(1) + hist.sum(0) - np.diag(hist))\n",
        "\n",
        "\n",
        "def label_mapping(input, mapping):\n",
        "    output = np.copy(input)\n",
        "    for ind in range(len(mapping)):\n",
        "        output[input == mapping[ind][0]] = mapping[ind][1]\n",
        "    return np.array(output, dtype=np.int64)\n",
        "\n",
        "\n",
        "def compute_mIoU(gt_dir, pred_dir, devkit_dir=''):\n",
        "    \"\"\"\n",
        "    Compute IoU given the predicted colorized images and \n",
        "    \"\"\"\n",
        "    with open(join(devkit_dir, 'info.json'), 'r') as fp:\n",
        "      info = json.load(fp)\n",
        "    num_classes = np.int(info['classes'])\n",
        "    print(('Num classes', num_classes))\n",
        "    name_classes = np.array(info['label'], dtype=np.str)\n",
        "    mapping = np.array(info['label2train'], dtype=np.int)\n",
        "    hist = np.zeros((num_classes, num_classes))\n",
        "\n",
        "    image_path_list = join(devkit_dir, 'val.txt')\n",
        "    label_path_list = join(devkit_dir, 'label.txt')\n",
        "    gt_imgs = open(label_path_list, 'r').read().splitlines()\n",
        "    gt_imgs = [join(gt_dir, x) for x in gt_imgs]\n",
        "    pred_imgs = open(image_path_list, 'r').read().splitlines()\n",
        "    pred_imgs = [join(pred_dir, x.split('/')[-1]) for x in pred_imgs]\n",
        "\n",
        "    for ind in range(len(gt_imgs)):\n",
        "        pred = np.array(Image.open(pred_imgs[ind]))\n",
        "        label = np.array(Image.open(gt_imgs[ind]))\n",
        "        label = label_mapping(label, mapping)\n",
        "        if len(label.shape) == 3 and label.shape[2]==4:\n",
        "            label = label[:,:,0]\n",
        "        if len(label.flatten()) != len(pred.flatten()):\n",
        "            print(('Skipping: len(gt) = {:d}, len(pred) = {:d}, {:s}, {:s}'.format(len(label.flatten()), len(pred.flatten()), gt_imgs[ind], pred_imgs[ind])))\n",
        "            continue\n",
        "        hist += fast_hist(label.flatten(), pred.flatten(), num_classes)\n",
        "        if ind > 0 and ind % 10 == 0:\n",
        "            print(('{:d} / {:d}: {:0.2f}'.format(ind, len(gt_imgs), 100*np.mean(per_class_iu(hist)))))\n",
        "    \n",
        "    mIoUs = per_class_iu(hist)\n",
        "    for ind_class in range(num_classes):\n",
        "        print(('===>' + name_classes[ind_class] + ':\\t' + str(round(mIoUs[ind_class] * 100, 2))))\n",
        "    print(('===> mIoU: ' + str(round(np.nanmean(mIoUs) * 100, 2))))\n",
        "    return mIoUs"
      ],
      "outputs": [],
      "metadata": {}
    },
    {
      "cell_type": "code",
      "execution_count": null,
      "source": [
        "compute_mIoU(GT_DIR, PRED_DIR, DEVKIT_DIR)"
      ],
      "outputs": [],
      "metadata": {}
    }
  ],
  "metadata": {
    "anaconda-cloud": {},
    "kernelspec": {
      "display_name": "Python 3",
      "language": "python",
      "name": "python3"
    },
    "language_info": {
      "codemirror_mode": {
        "name": "ipython",
        "version": 3
      },
      "file_extension": ".py",
      "mimetype": "text/x-python",
      "name": "python",
      "nbconvert_exporter": "python",
      "pygments_lexer": "ipython3",
      "version": "3.6.1"
    }
  },
  "nbformat": 4,
  "nbformat_minor": 4
}